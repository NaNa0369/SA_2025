{
  "metadata": {
    "kernelspec": {
      "language": "python",
      "display_name": "Python 3",
      "name": "python3"
    },
    "language_info": {
      "name": "python",
      "version": "3.11.11",
      "mimetype": "text/x-python",
      "codemirror_mode": {
        "name": "ipython",
        "version": 3
      },
      "pygments_lexer": "ipython3",
      "nbconvert_exporter": "python",
      "file_extension": ".py"
    },
    "kaggle": {
      "accelerator": "none",
      "dataSources": [
        {
          "sourceId": 104491,
          "databundleVersionId": 12585144,
          "sourceType": "competition"
        }
      ],
      "dockerImageVersionId": 31040,
      "isInternetEnabled": false,
      "language": "python",
      "sourceType": "notebook",
      "isGpuEnabled": false
    },
    "colab": {
      "name": "SA2025 W2",
      "provenance": [],
      "include_colab_link": true
    }
  },
  "nbformat_minor": 0,
  "nbformat": 4,
  "cells": [
    {
      "cell_type": "markdown",
      "metadata": {
        "id": "view-in-github",
        "colab_type": "text"
      },
      "source": [
        "<a href=\"https://colab.research.google.com/github/NaNa0369/SA_2025/blob/main/SA2025_W2.ipynb\" target=\"_parent\"><img src=\"https://colab.research.google.com/assets/colab-badge.svg\" alt=\"Open In Colab\"/></a>"
      ]
    },
    {
      "source": [
        "# IMPORTANT: SOME KAGGLE DATA SOURCES ARE PRIVATE\n",
        "# RUN THIS CELL IN ORDER TO IMPORT YOUR KAGGLE DATA SOURCES.\n",
        "import kagglehub\n",
        "kagglehub.login()\n"
      ],
      "metadata": {
        "id": "9gS3ia0tVPpH"
      },
      "cell_type": "code",
      "outputs": [],
      "execution_count": null
    },
    {
      "source": [
        "# IMPORTANT: RUN THIS CELL IN ORDER TO IMPORT YOUR KAGGLE DATA SOURCES,\n",
        "# THEN FEEL FREE TO DELETE THIS CELL.\n",
        "# NOTE: THIS NOTEBOOK ENVIRONMENT DIFFERS FROM KAGGLE'S PYTHON\n",
        "# ENVIRONMENT SO THERE MAY BE MISSING LIBRARIES USED BY YOUR\n",
        "# NOTEBOOK.\n",
        "\n",
        "summer_analytics_mid_hackathon_path = kagglehub.competition_download('summer-analytics-mid-hackathon')\n",
        "\n",
        "print('Data source import complete.')\n"
      ],
      "metadata": {
        "id": "8QyIZDDQVPpL"
      },
      "cell_type": "code",
      "outputs": [],
      "execution_count": null
    },
    {
      "cell_type": "code",
      "source": [
        "import pandas as pd\n",
        "import numpy as np\n",
        "from sklearn.linear_model import LogisticRegression\n",
        "from sklearn.pipeline import make_pipeline\n",
        "from sklearn.preprocessing import StandardScaler, LabelEncoder\n",
        "from sklearn.model_selection import cross_val_score\n",
        "import matplotlib.pyplot as plt\n",
        "import seaborn as sns\n",
        "\n",
        "train = pd.read_csv('/kaggle/input/summer-analytics-mid-hackathon/hacktrain.csv')\n",
        "test = pd.read_csv('/kaggle/input/summer-analytics-mid-hackathon/hacktest.csv')\n",
        "\n",
        "print(\"Train shape:\", train.shape)\n",
        "print(\"Test shape:\", test.shape)\n",
        "\n",
        "ndvi_cols = [col for col in train.columns if '_N' in col]\n",
        "\n",
        "train[ndvi_cols] = train[ndvi_cols].interpolate(axis=1, limit_direction='both')\n",
        "test[ndvi_cols] = test[ndvi_cols].interpolate(axis=1, limit_direction='both')\n",
        "\n",
        "def extract_features(df):\n",
        "    f = pd.DataFrame()\n",
        "    f['mean'] = df[ndvi_cols].mean(axis=1)\n",
        "    f['std'] = df[ndvi_cols].std(axis=1)\n",
        "    f['min'] = df[ndvi_cols].min(axis=1)\n",
        "    f['max'] = df[ndvi_cols].max(axis=1)\n",
        "    f['range'] = f['max'] - f['min']\n",
        "    f['skew'] = df[ndvi_cols].skew(axis=1)\n",
        "    f['first'] = df[ndvi_cols].iloc[:, 0]\n",
        "    f['last'] = df[ndvi_cols].iloc[:, -1]\n",
        "    f['trend'] = f['last'] - f['first']\n",
        "    return f\n",
        "\n",
        "X_train = extract_features(train)\n",
        "X_test = extract_features(test)\n",
        "y_train = train['class']\n",
        "test_ids = test['ID']\n",
        "\n",
        "le = LabelEncoder()\n",
        "y_train_enc = le.fit_transform(y_train)\n",
        "\n",
        "model = make_pipeline(StandardScaler(), LogisticRegression(multi_class='multinomial', solver='saga', max_iter=1000))\n",
        "model.fit(X_train, y_train_enc)\n",
        "\n",
        "preds = model.predict(X_test)\n",
        "pred_labels = le.inverse_transform(preds)\n",
        "\n",
        "submission = pd.DataFrame({'ID': test_ids, 'class': pred_labels})\n",
        "submission.to_csv('submission.csv', index=False)"
      ],
      "metadata": {
        "_uuid": "8f2839f25d086af736a60e9eeb907d3b93b6e0e5",
        "_cell_guid": "b1076dfc-b9ad-4769-8c92-a6c4dae69d19",
        "trusted": true,
        "execution": {
          "iopub.status.busy": "2025-06-11T16:54:43.109112Z",
          "iopub.execute_input": "2025-06-11T16:54:43.109394Z",
          "iopub.status.idle": "2025-06-11T16:54:49.72357Z",
          "shell.execute_reply.started": "2025-06-11T16:54:43.109372Z",
          "shell.execute_reply": "2025-06-11T16:54:49.722099Z"
        },
        "id": "SsbZH2pIVPpM"
      },
      "outputs": [],
      "execution_count": null
    }
  ]
}